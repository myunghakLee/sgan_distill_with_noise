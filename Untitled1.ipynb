{
 "cells": [
  {
   "cell_type": "code",
   "execution_count": 2,
   "id": "d47d8666",
   "metadata": {
    "ExecuteTime": {
     "end_time": "2023-02-01T10:38:21.448154Z",
     "start_time": "2023-02-01T10:38:21.436996Z"
    }
   },
   "outputs": [
    {
     "data": {
      "text/plain": [
       "{'de',\n",
       " 'lrp_teacher',\n",
       " 'negative_lrp_teacher',\n",
       " 'negative_lrp_teacher_feat',\n",
       " 'no_noise',\n",
       " 'no_noise_teacher',\n",
       " 'no_noise_teacher_feat',\n",
       " 'random_noise_teacher',\n",
       " 'saved_models',\n",
       " 'temp'}"
      ]
     },
     "execution_count": 2,
     "metadata": {},
     "output_type": "execute_result"
    }
   ],
   "source": [
    "from glob import glob\n",
    "\n",
    "folder_name = [d.split(\"/\")[0] for d in glob(\"*/*8*.pt\")]\n",
    "folder_name = set(folder_name)\n",
    "folder_name"
   ]
  },
  {
   "cell_type": "code",
   "execution_count": 3,
   "id": "42812fef",
   "metadata": {
    "ExecuteTime": {
     "end_time": "2023-02-01T10:38:27.731388Z",
     "start_time": "2023-02-01T10:38:27.724450Z"
    }
   },
   "outputs": [
    {
     "name": "stdout",
     "output_type": "stream",
     "text": [
      "echo \"de\"\n",
      "python evaluate_model.py --model_path de\n",
      "echo \"\\n\"\n",
      "\n",
      "echo \"lrp_teacher\"\n",
      "python evaluate_model.py --model_path lrp_teacher\n",
      "echo \"\\n\"\n",
      "\n",
      "echo \"negative_lrp_teacher\"\n",
      "python evaluate_model.py --model_path negative_lrp_teacher\n",
      "echo \"\\n\"\n",
      "\n",
      "echo \"negative_lrp_teacher_feat\"\n",
      "python evaluate_model.py --model_path negative_lrp_teacher_feat\n",
      "echo \"\\n\"\n",
      "\n",
      "echo \"no_noise\"\n",
      "python evaluate_model.py --model_path no_noise\n",
      "echo \"\\n\"\n",
      "\n",
      "echo \"no_noise_teacher\"\n",
      "python evaluate_model.py --model_path no_noise_teacher\n",
      "echo \"\\n\"\n",
      "\n",
      "echo \"no_noise_teacher_feat\"\n",
      "python evaluate_model.py --model_path no_noise_teacher_feat\n",
      "echo \"\\n\"\n",
      "\n",
      "echo \"random_noise_teacher\"\n",
      "python evaluate_model.py --model_path random_noise_teacher\n",
      "echo \"\\n\"\n",
      "\n",
      "echo \"saved_models\"\n",
      "python evaluate_model.py --model_path saved_models\n",
      "echo \"\\n\"\n",
      "\n",
      "echo \"temp\"\n",
      "python evaluate_model.py --model_path temp\n",
      "echo \"\\n\"\n",
      "\n"
     ]
    }
   ],
   "source": [
    "for name in sorted(list(folder_name)):\n",
    "    print(f\"echo \\\"{name}\\\"\")\n",
    "    print(f\"python evaluate_model.py --model_path {name}\")\n",
    "    print(f\"echo \\\"\\\\n\\\"\")\n",
    "    print(\"\")"
   ]
  },
  {
   "cell_type": "code",
   "execution_count": 4,
   "id": "863ffa80",
   "metadata": {
    "ExecuteTime": {
     "end_time": "2023-02-01T10:33:42.394617Z",
     "start_time": "2023-02-01T10:33:42.387023Z"
    }
   },
   "outputs": [
    {
     "data": {
      "text/plain": [
       "{'de',\n",
       " 'lrp_alpha195_teacher',\n",
       " 'lrp_alpha195_teacher_feat',\n",
       " 'lrp_teacher',\n",
       " 'lrp_teacher_feat',\n",
       " 'lrp_teacher_pool',\n",
       " 'lrp_teacher_pool_feat',\n",
       " 'negative_lrp_alpha195_teacher',\n",
       " 'negative_lrp_alpha195_teacher_feat',\n",
       " 'negative_lrp_teacher',\n",
       " 'negative_lrp_teacher_feat',\n",
       " 'negative_lrp_teacher_pool',\n",
       " 'negative_lrp_teacher_pool_feat',\n",
       " 'no_noise',\n",
       " 'no_noise_teacher',\n",
       " 'no_noise_teacher_feat',\n",
       " 'no_noise_teacher_pool',\n",
       " 'no_noise_teacher_pool_feat',\n",
       " 'random_noise_teacher',\n",
       " 'random_noise_teacher_feat',\n",
       " 'random_noise_teacher_pool',\n",
       " 'random_noise_teacher_pool_feat',\n",
       " 'saved_models',\n",
       " 'temp'}"
      ]
     },
     "execution_count": 4,
     "metadata": {},
     "output_type": "execute_result"
    }
   ],
   "source": [
    "folder_name"
   ]
  }
 ],
 "metadata": {
  "kernelspec": {
   "display_name": "cuda_11_6",
   "language": "python",
   "name": "cuda_11_6"
  },
  "language_info": {
   "codemirror_mode": {
    "name": "ipython",
    "version": 3
   },
   "file_extension": ".py",
   "mimetype": "text/x-python",
   "name": "python",
   "nbconvert_exporter": "python",
   "pygments_lexer": "ipython3",
   "version": "3.8.15"
  },
  "toc": {
   "base_numbering": 1,
   "nav_menu": {},
   "number_sections": false,
   "sideBar": true,
   "skip_h1_title": false,
   "title_cell": "Table of Contents",
   "title_sidebar": "Contents",
   "toc_cell": false,
   "toc_position": {},
   "toc_section_display": true,
   "toc_window_display": false
  }
 },
 "nbformat": 4,
 "nbformat_minor": 5
}

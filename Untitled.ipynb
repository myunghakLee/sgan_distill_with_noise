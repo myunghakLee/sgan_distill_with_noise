{
 "cells": [
  {
   "cell_type": "code",
   "execution_count": 7,
   "id": "e3ad2330",
   "metadata": {
    "ExecuteTime": {
     "end_time": "2023-02-01T08:00:48.760902Z",
     "start_time": "2023-02-01T08:00:46.311147Z"
    }
   },
   "outputs": [],
   "source": [
    "import torch"
   ]
  },
  {
   "cell_type": "code",
   "execution_count": 8,
   "id": "33ef9e66",
   "metadata": {
    "ExecuteTime": {
     "end_time": "2023-02-01T08:01:08.994086Z",
     "start_time": "2023-02-01T08:00:54.647920Z"
    }
   },
   "outputs": [],
   "source": [
    "a = torch.load(\"./models/sgan-p-models/hotel_8_model.pt\")"
   ]
  },
  {
   "cell_type": "code",
   "execution_count": 9,
   "id": "146cd5c4",
   "metadata": {
    "ExecuteTime": {
     "end_time": "2023-02-01T08:01:09.075824Z",
     "start_time": "2023-02-01T08:01:09.003042Z"
    }
   },
   "outputs": [],
   "source": [
    "b = torch.load(\"./de/hotel_8_model.pt\")"
   ]
  },
  {
   "cell_type": "code",
   "execution_count": 10,
   "id": "4d13ca60",
   "metadata": {
    "ExecuteTime": {
     "end_time": "2023-02-01T08:01:12.098242Z",
     "start_time": "2023-02-01T08:01:12.087338Z"
    }
   },
   "outputs": [],
   "source": [
    "for k in a['args'].keys():\n",
    "    if k not in b['args'].keys():\n",
    "        b['args'][k] = a['args'][k]\n",
    "        \n"
   ]
  },
  {
   "cell_type": "code",
   "execution_count": 11,
   "id": "9200d025",
   "metadata": {
    "ExecuteTime": {
     "end_time": "2023-02-01T08:01:15.435358Z",
     "start_time": "2023-02-01T08:01:15.403360Z"
    }
   },
   "outputs": [],
   "source": [
    "torch.save(b, \"de/hotel_8_model.pt\")"
   ]
  },
  {
   "cell_type": "code",
   "execution_count": 27,
   "id": "24586645",
   "metadata": {
    "ExecuteTime": {
     "end_time": "2023-01-25T13:49:19.029548Z",
     "start_time": "2023-01-25T13:49:19.023288Z"
    }
   },
   "outputs": [
    {
     "data": {
      "text/plain": [
       "{'encoder_h_dim_d': 48,\n",
       " 'neighborhood_size': 2.0,\n",
       " 'pool_every_timestep': False,\n",
       " 'clipping_threshold_g': 2.0,\n",
       " 'delim': 'tab',\n",
       " 'dataset_name': 'hotel',\n",
       " 'print_every': 100,\n",
       " 'skip': 1,\n",
       " 'loader_num_workers': 4,\n",
       " 'd_steps': 1,\n",
       " 'batch_size': 64,\n",
       " 'num_epochs': 200,\n",
       " 'num_layers': 1,\n",
       " 'best_k': 20,\n",
       " 'obs_len': 8,\n",
       " 'pred_len': 8,\n",
       " 'g_steps': 1,\n",
       " 'g_learning_rate': 0.0001,\n",
       " 'l2_loss_weight': 1.0,\n",
       " 'grid_size': 8,\n",
       " 'bottleneck_dim': 8,\n",
       " 'checkpoint_name': 'checkpoint',\n",
       " 'gpu_num': '0',\n",
       " 'restore_from_checkpoint': 1,\n",
       " 'dropout': 0.0,\n",
       " 'noise_mix_type': 'global',\n",
       " 'decoder_h_dim_g': 32,\n",
       " 'pooling_type': 'pool_net',\n",
       " 'use_gpu': 1,\n",
       " 'num_iterations': 8512,\n",
       " 'batch_norm': False,\n",
       " 'noise_type': 'gaussian',\n",
       " 'clipping_threshold_d': 0,\n",
       " 'encoder_h_dim_g': 32,\n",
       " 'checkpoint_every': 300,\n",
       " 'd_learning_rate': 0.001,\n",
       " 'checkpoint_start_from': None,\n",
       " 'timing': 0,\n",
       " 'mlp_dim': 64,\n",
       " 'num_samples_check': 5000,\n",
       " 'd_type': 'global',\n",
       " 'noise_dim': (8,),\n",
       " 'embedding_dim': 16}"
      ]
     },
     "execution_count": 27,
     "metadata": {},
     "output_type": "execute_result"
    }
   ],
   "source": [
    "a['args']"
   ]
  },
  {
   "cell_type": "code",
   "execution_count": 1,
   "id": "e5b32c69",
   "metadata": {
    "ExecuteTime": {
     "end_time": "2023-01-31T05:34:26.085554Z",
     "start_time": "2023-01-31T05:34:26.082046Z"
    }
   },
   "outputs": [],
   "source": [
    "from glob import glob"
   ]
  },
  {
   "cell_type": "code",
   "execution_count": 2,
   "id": "53f90a49",
   "metadata": {
    "ExecuteTime": {
     "end_time": "2023-01-31T05:34:32.568736Z",
     "start_time": "2023-01-31T05:34:32.558612Z"
    },
    "scrolled": true
   },
   "outputs": [
    {
     "data": {
      "text/plain": [
       "['./random_noise_teacher/eth_12_model.pt',\n",
       " './random_noise_teacher/zara1_12_model.pt',\n",
       " './random_noise_teacher/zara2_12_model.pt',\n",
       " './random_noise_teacher/zara1_8_model.pt',\n",
       " './random_noise_teacher/hotel_12_model.pt',\n",
       " './random_noise_teacher/univ_12_model.pt',\n",
       " './no_noise_teacher_feat/eth_12_model.pt',\n",
       " './no_noise_teacher_feat/zara1_12_model.pt',\n",
       " './no_noise_teacher_feat/zara2_8_model.pt',\n",
       " './no_noise_teacher_feat/hotel_8_model.pt',\n",
       " './no_noise_teacher_feat/zara2_12_model.pt',\n",
       " './no_noise_teacher_feat/eth_8_model.pt',\n",
       " './no_noise_teacher_feat/zara1_8_model.pt',\n",
       " './no_noise_teacher_feat/hotel_12_model.pt',\n",
       " './no_noise_teacher_feat/univ_12_model.pt',\n",
       " './no_noise_teacher_feat/univ_8_model.pt',\n",
       " './lrp_teacher/eth_12_model.pt',\n",
       " './lrp_teacher/zara1_12_model.pt',\n",
       " './lrp_teacher/hotel_8_model.pt',\n",
       " './lrp_teacher/zara2_12_model.pt',\n",
       " './lrp_teacher/hotel_12_model.pt',\n",
       " './lrp_teacher/univ_12_model.pt',\n",
       " './lrp_teacher_feat/eth_12_model.pt',\n",
       " './lrp_teacher_feat/zara1_12_model.pt',\n",
       " './lrp_teacher_feat/zara2_12_model.pt',\n",
       " './lrp_teacher_feat/hotel_12_model.pt',\n",
       " './lrp_teacher_feat/univ_12_model.pt',\n",
       " './no_noise/hotel_8_model.pt',\n",
       " './temp/hotel_8_model.pt',\n",
       " './negative_lrp_alpha195_teacher_feat/eth_12_model.pt',\n",
       " './negative_lrp_alpha195_teacher_feat/zara1_12_model.pt',\n",
       " './negative_lrp_alpha195_teacher_feat/zara2_12_model.pt',\n",
       " './negative_lrp_alpha195_teacher_feat/hotel_12_model.pt',\n",
       " './negative_lrp_alpha195_teacher_feat/univ_12_model.pt',\n",
       " './lrp_alpha195_teacher/eth_12_model.pt',\n",
       " './lrp_alpha195_teacher/zara1_12_model.pt',\n",
       " './lrp_alpha195_teacher/zara2_12_model.pt',\n",
       " './lrp_alpha195_teacher/hotel_12_model.pt',\n",
       " './lrp_alpha195_teacher/univ_12_model.pt',\n",
       " './random_noise_teacher_feat/eth_12_model.pt',\n",
       " './random_noise_teacher_feat/zara1_12_model.pt',\n",
       " './random_noise_teacher_feat/zara2_12_model.pt',\n",
       " './random_noise_teacher_feat/hotel_12_model.pt',\n",
       " './random_noise_teacher_feat/univ_12_model.pt',\n",
       " './negative_lrp_teacher_feat/eth_12_model.pt',\n",
       " './negative_lrp_teacher_feat/zara1_12_model.pt',\n",
       " './negative_lrp_teacher_feat/zara2_8_model.pt',\n",
       " './negative_lrp_teacher_feat/hotel_8_model.pt',\n",
       " './negative_lrp_teacher_feat/zara2_12_model.pt',\n",
       " './negative_lrp_teacher_feat/eth_8_model.pt',\n",
       " './negative_lrp_teacher_feat/zara1_8_model.pt',\n",
       " './negative_lrp_teacher_feat/hotel_12_model.pt',\n",
       " './negative_lrp_teacher_feat/univ_12_model.pt',\n",
       " './negative_lrp_teacher_feat/univ_8_model.pt',\n",
       " './negative_lrp_alpha195_teacher/eth_12_model.pt',\n",
       " './negative_lrp_alpha195_teacher/zara1_12_model.pt',\n",
       " './negative_lrp_alpha195_teacher/zara2_12_model.pt',\n",
       " './negative_lrp_alpha195_teacher/hotel_12_model.pt',\n",
       " './negative_lrp_alpha195_teacher/univ_12_model.pt',\n",
       " './no_noise_teacher/eth_12_model.pt',\n",
       " './no_noise_teacher/zara1_12_model.pt',\n",
       " './no_noise_teacher/zara2_8_model.pt',\n",
       " './no_noise_teacher/hotel_8_model.pt',\n",
       " './no_noise_teacher/zara2_12_model.pt',\n",
       " './no_noise_teacher/eth_8_model.pt',\n",
       " './no_noise_teacher/zara1_8_model.pt',\n",
       " './no_noise_teacher/hotel_12_model.pt',\n",
       " './no_noise_teacher/univ_12_model.pt',\n",
       " './no_noise_teacher/univ_8_model.pt',\n",
       " './negative_lrp_teacher/eth_12_model.pt',\n",
       " './negative_lrp_teacher/zara1_12_model.pt',\n",
       " './negative_lrp_teacher/zara2_8_model.pt',\n",
       " './negative_lrp_teacher/hotel_8_model.pt',\n",
       " './negative_lrp_teacher/zara2_12_model.pt',\n",
       " './negative_lrp_teacher/eth_8_model.pt',\n",
       " './negative_lrp_teacher/zara1_8_model.pt',\n",
       " './negative_lrp_teacher/hotel_12_model.pt',\n",
       " './negative_lrp_teacher/univ_12_model.pt',\n",
       " './negative_lrp_teacher/univ_8_model.pt',\n",
       " './saved_models/hotel_8_model.pt',\n",
       " './lrp_alpha195_teacher_feat/eth_12_model.pt',\n",
       " './lrp_alpha195_teacher_feat/zara1_12_model.pt',\n",
       " './lrp_alpha195_teacher_feat/zara2_12_model.pt',\n",
       " './lrp_alpha195_teacher_feat/hotel_12_model.pt',\n",
       " './lrp_alpha195_teacher_feat/univ_12_model.pt']"
      ]
     },
     "execution_count": 2,
     "metadata": {},
     "output_type": "execute_result"
    }
   ],
   "source": [
    "glob(\"./*/*.pt\")"
   ]
  },
  {
   "cell_type": "code",
   "execution_count": 6,
   "id": "ab823f02",
   "metadata": {
    "ExecuteTime": {
     "end_time": "2023-01-31T05:38:23.942646Z",
     "start_time": "2023-01-31T05:38:23.934622Z"
    }
   },
   "outputs": [
    {
     "name": "stdout",
     "output_type": "stream",
     "text": [
      "echo \"random_noise_teacher \"\n",
      "python evaluate_model.py --model_path random_noise_teacher\n",
      "\n",
      "echo \"random_noise_teacher_feat \"\n",
      "python evaluate_model.py --model_path random_noise_teacher_feat\n",
      "\n",
      "echo \"no_noise_teacher \"\n",
      "python evaluate_model.py --model_path no_noise_teacher\n",
      "\n",
      "echo \"no_noise_teacher_feat \"\n",
      "python evaluate_model.py --model_path no_noise_teacher_feat\n",
      "\n",
      "echo \"lrp_teacher \"\n",
      "python evaluate_model.py --model_path lrp_teacher\n",
      "\n",
      "echo \"lrp_teacher_feat \"\n",
      "python evaluate_model.py --model_path lrp_teacher_feat\n",
      "\n",
      "echo \"lrp_alpha195_teacher \"\n",
      "python evaluate_model.py --model_path lrp_alpha195_teacher\n",
      "\n",
      "echo \"lrp_alpha195_teacher_feat \"\n",
      "python evaluate_model.py --model_path lrp_alpha195_teacher_feat\n",
      "\n",
      "echo \"negative_lrp_teacher \"\n",
      "python evaluate_model.py --model_path negative_lrp_teacher\n",
      "\n",
      "echo \"negative_lrp_teacher_feat \"\n",
      "python evaluate_model.py --model_path negative_lrp_teacher_feat\n",
      "\n",
      "echo \"negative_lrp_alpha195_teacher \"\n",
      "python evaluate_model.py --model_path negative_lrp_alpha195_teacher\n",
      "\n",
      "echo \"negative_lrp_alpha195_teacher_feat \"\n",
      "python evaluate_model.py --model_path negative_lrp_alpha195_teacher_feat\n",
      "\n"
     ]
    }
   ],
   "source": [
    "for name in [\"random_noise_teacher\",\n",
    "\"random_noise_teacher_feat\",\n",
    "\"no_noise_teacher\",\n",
    "\"no_noise_teacher_feat\",\n",
    "\"lrp_teacher\",\n",
    "\"lrp_teacher_feat\",\n",
    "\"lrp_alpha195_teacher\",\n",
    "\"lrp_alpha195_teacher_feat\",\n",
    "\"negative_lrp_teacher\",\n",
    "\"negative_lrp_teacher_feat\",\n",
    "\"negative_lrp_alpha195_teacher\",\n",
    "\"negative_lrp_alpha195_teacher_feat\"]:\n",
    "    print(f\"echo \\\"{name} \\\"\")\n",
    "    print(f\"python evaluate_model.py --model_path {name}\")\n",
    "    print(\"\")"
   ]
  },
  {
   "cell_type": "markdown",
   "id": "6ca11f51",
   "metadata": {},
   "source": [
    "``` python\n",
    "input_data\n",
    "\n",
    "lrp_input = get_lrp(model, input_data)\n",
    "\n",
    "output1, feat1 = model(lrp_input)  # pesdu label용\n",
    "for _ in k:\n",
    "    output2, feat2 = model(input_data)\n",
    "    \n",
    "loss = l2(min(output2-gt))\n",
    "loss += l2(feat1 - feat2[0])  # feat2[0] = feat[k]\n",
    "```"
   ]
  },
  {
   "cell_type": "markdown",
   "id": "c819a993",
   "metadata": {},
   "source": [
    "```\n",
    "input_data\n",
    "\n",
    "lrp_input = get_lrp(model, input_data)\n",
    "\n",
    "output1, feat1 = teacher(lrp_input)\n",
    "for _ in k:\n",
    "    output2, feat2 = student(input_data)\n",
    "    \n",
    "loss = l2(min(output2-gt))\n",
    "loss += l2(feat1 - feat2[0])  # feat2[0] = feat[k]\n",
    "```"
   ]
  },
  {
   "cell_type": "code",
   "execution_count": null,
   "id": "782bad96",
   "metadata": {},
   "outputs": [],
   "source": []
  }
 ],
 "metadata": {
  "kernelspec": {
   "display_name": "Python 3",
   "language": "python",
   "name": "python3"
  },
  "language_info": {
   "codemirror_mode": {
    "name": "ipython",
    "version": 3
   },
   "file_extension": ".py",
   "mimetype": "text/x-python",
   "name": "python",
   "nbconvert_exporter": "python",
   "pygments_lexer": "ipython3",
   "version": "3.8.10"
  },
  "toc": {
   "base_numbering": 1,
   "nav_menu": {},
   "number_sections": false,
   "sideBar": true,
   "skip_h1_title": false,
   "title_cell": "Table of Contents",
   "title_sidebar": "Contents",
   "toc_cell": false,
   "toc_position": {},
   "toc_section_display": true,
   "toc_window_display": false
  }
 },
 "nbformat": 4,
 "nbformat_minor": 5
}

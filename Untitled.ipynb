{
 "cells": [
  {
   "cell_type": "code",
   "execution_count": 1,
   "id": "e3ad2330",
   "metadata": {
    "ExecuteTime": {
     "end_time": "2023-01-25T13:43:41.279608Z",
     "start_time": "2023-01-25T13:43:39.502364Z"
    }
   },
   "outputs": [],
   "source": [
    "import torch"
   ]
  },
  {
   "cell_type": "code",
   "execution_count": 23,
   "id": "33ef9e66",
   "metadata": {
    "ExecuteTime": {
     "end_time": "2023-01-25T13:49:11.895333Z",
     "start_time": "2023-01-25T13:49:11.882277Z"
    }
   },
   "outputs": [],
   "source": [
    "a = torch.load(\"./models/sgan-p-models/hotel_8_model.pt\")"
   ]
  },
  {
   "cell_type": "code",
   "execution_count": 24,
   "id": "146cd5c4",
   "metadata": {
    "ExecuteTime": {
     "end_time": "2023-01-25T13:49:12.724578Z",
     "start_time": "2023-01-25T13:49:12.697836Z"
    }
   },
   "outputs": [],
   "source": [
    "b = torch.load(\"./no_noise/hotel_8_model.pt\")"
   ]
  },
  {
   "cell_type": "code",
   "execution_count": 25,
   "id": "4d13ca60",
   "metadata": {
    "ExecuteTime": {
     "end_time": "2023-01-25T13:49:15.912214Z",
     "start_time": "2023-01-25T13:49:15.900821Z"
    }
   },
   "outputs": [],
   "source": [
    "for k in a['args'].keys():\n",
    "    if k not in b['args'].keys():\n",
    "        b['args'][k] = a['args'][k]\n",
    "        \n"
   ]
  },
  {
   "cell_type": "code",
   "execution_count": 26,
   "id": "9200d025",
   "metadata": {
    "ExecuteTime": {
     "end_time": "2023-01-25T13:49:17.531634Z",
     "start_time": "2023-01-25T13:49:17.513888Z"
    }
   },
   "outputs": [],
   "source": [
    "torch.save(b, \"no_noise/hotel_8_model.pt\")"
   ]
  },
  {
   "cell_type": "code",
   "execution_count": 27,
   "id": "24586645",
   "metadata": {
    "ExecuteTime": {
     "end_time": "2023-01-25T13:49:19.029548Z",
     "start_time": "2023-01-25T13:49:19.023288Z"
    }
   },
   "outputs": [
    {
     "data": {
      "text/plain": [
       "{'encoder_h_dim_d': 48,\n",
       " 'neighborhood_size': 2.0,\n",
       " 'pool_every_timestep': False,\n",
       " 'clipping_threshold_g': 2.0,\n",
       " 'delim': 'tab',\n",
       " 'dataset_name': 'hotel',\n",
       " 'print_every': 100,\n",
       " 'skip': 1,\n",
       " 'loader_num_workers': 4,\n",
       " 'd_steps': 1,\n",
       " 'batch_size': 64,\n",
       " 'num_epochs': 200,\n",
       " 'num_layers': 1,\n",
       " 'best_k': 20,\n",
       " 'obs_len': 8,\n",
       " 'pred_len': 8,\n",
       " 'g_steps': 1,\n",
       " 'g_learning_rate': 0.0001,\n",
       " 'l2_loss_weight': 1.0,\n",
       " 'grid_size': 8,\n",
       " 'bottleneck_dim': 8,\n",
       " 'checkpoint_name': 'checkpoint',\n",
       " 'gpu_num': '0',\n",
       " 'restore_from_checkpoint': 1,\n",
       " 'dropout': 0.0,\n",
       " 'noise_mix_type': 'global',\n",
       " 'decoder_h_dim_g': 32,\n",
       " 'pooling_type': 'pool_net',\n",
       " 'use_gpu': 1,\n",
       " 'num_iterations': 8512,\n",
       " 'batch_norm': False,\n",
       " 'noise_type': 'gaussian',\n",
       " 'clipping_threshold_d': 0,\n",
       " 'encoder_h_dim_g': 32,\n",
       " 'checkpoint_every': 300,\n",
       " 'd_learning_rate': 0.001,\n",
       " 'checkpoint_start_from': None,\n",
       " 'timing': 0,\n",
       " 'mlp_dim': 64,\n",
       " 'num_samples_check': 5000,\n",
       " 'd_type': 'global',\n",
       " 'noise_dim': (8,),\n",
       " 'embedding_dim': 16}"
      ]
     },
     "execution_count": 27,
     "metadata": {},
     "output_type": "execute_result"
    }
   ],
   "source": [
    "a['args']"
   ]
  }
 ],
 "metadata": {
  "kernelspec": {
   "display_name": "Python 3",
   "language": "python",
   "name": "python3"
  },
  "language_info": {
   "codemirror_mode": {
    "name": "ipython",
    "version": 3
   },
   "file_extension": ".py",
   "mimetype": "text/x-python",
   "name": "python",
   "nbconvert_exporter": "python",
   "pygments_lexer": "ipython3",
   "version": "3.8.10"
  },
  "toc": {
   "base_numbering": 1,
   "nav_menu": {},
   "number_sections": false,
   "sideBar": true,
   "skip_h1_title": false,
   "title_cell": "Table of Contents",
   "title_sidebar": "Contents",
   "toc_cell": false,
   "toc_position": {},
   "toc_section_display": true,
   "toc_window_display": false
  }
 },
 "nbformat": 4,
 "nbformat_minor": 5
}
